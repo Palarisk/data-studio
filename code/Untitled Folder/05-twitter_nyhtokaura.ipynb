{
 "cells": [
  {
   "cell_type": "code",
   "execution_count": 1,
   "metadata": {},
   "outputs": [],
   "source": [
    "\n",
    "import pandas as pd\n",
    "\n",
    "from twitterscraper import query_tweets\n",
    "\n"
   ]
  },
  {
   "cell_type": "code",
   "execution_count": null,
   "metadata": {},
   "outputs": [
    {
     "name": "stderr",
     "output_type": "stream",
     "text": [
      "INFO: queries: ['#nyhtökaura since:2006-03-21 until:2006-11-02', '#nyhtökaura since:2006-11-02 until:2007-06-16', '#nyhtökaura since:2007-06-16 until:2008-01-28', '#nyhtökaura since:2008-01-28 until:2008-09-10', '#nyhtökaura since:2008-09-10 until:2009-04-25', '#nyhtökaura since:2009-04-25 until:2009-12-07', '#nyhtökaura since:2009-12-07 until:2010-07-21', '#nyhtökaura since:2010-07-21 until:2011-03-04', '#nyhtökaura since:2011-03-04 until:2011-10-16', '#nyhtökaura since:2011-10-16 until:2012-05-30', '#nyhtökaura since:2012-05-30 until:2013-01-11', '#nyhtökaura since:2013-01-11 until:2013-08-25', '#nyhtökaura since:2013-08-25 until:2014-04-08', '#nyhtökaura since:2014-04-08 until:2014-11-20', '#nyhtökaura since:2014-11-20 until:2015-07-05', '#nyhtökaura since:2015-07-05 until:2016-02-16', '#nyhtökaura since:2016-02-16 until:2016-09-29', '#nyhtökaura since:2016-09-29 until:2017-05-13', '#nyhtökaura since:2017-05-13 until:2017-12-25', '#nyhtökaura since:2017-12-25 until:2018-08-09']\n",
      "INFO: Querying #nyhtökaura since:2006-03-21 until:2006-11-02\n",
      "INFO: Querying #nyhtökaura since:2006-11-02 until:2007-06-16\n",
      "INFO: Querying #nyhtökaura since:2007-06-16 until:2008-01-28\n",
      "INFO: Querying #nyhtökaura since:2010-07-21 until:2011-03-04\n",
      "INFO: Querying #nyhtökaura since:2008-01-28 until:2008-09-10\n",
      "INFO: Querying #nyhtökaura since:2008-09-10 until:2009-04-25\n",
      "INFO: Querying #nyhtökaura since:2009-12-07 until:2010-07-21\n",
      "INFO: Querying #nyhtökaura since:2009-04-25 until:2009-12-07\n",
      "INFO: Querying #nyhtökaura since:2011-10-16 until:2012-05-30\n",
      "INFO: Querying #nyhtökaura since:2012-05-30 until:2013-01-11\n",
      "INFO: Querying #nyhtökaura since:2011-03-04 until:2011-10-16\n",
      "INFO: Querying #nyhtökaura since:2013-08-25 until:2014-04-08\n",
      "INFO: Querying #nyhtökaura since:2013-01-11 until:2013-08-25\n",
      "INFO: Querying #nyhtökaura since:2016-02-16 until:2016-09-29\n",
      "INFO: Querying #nyhtökaura since:2014-04-08 until:2014-11-20\n",
      "INFO: Querying #nyhtökaura since:2017-05-13 until:2017-12-25\n",
      "INFO: Querying #nyhtökaura since:2014-11-20 until:2015-07-05\n",
      "INFO: Querying #nyhtökaura since:2015-07-05 until:2016-02-16\n",
      "INFO: Querying #nyhtökaura since:2016-09-29 until:2017-05-13\n",
      "INFO: Querying #nyhtökaura since:2017-12-25 until:2018-08-09\n"
     ]
    }
   ],
   "source": [
    "if __name__ == '__main__':\n",
    "    list_of_tweets = query_tweets(\"#nyhtökaura\", 10)\n",
    "\n",
    "    #print the retrieved tweets to the screen:\n",
    "    #for tweet in query_tweets(\"#nyhtökaura\", 10):\n",
    "    #    print(tweet)\n",
    "\n",
    "    #Or save the retrieved tweets to file:\n",
    "    file = open(\"output.txt\",\"w\")\n",
    "    for tweet in query_tweets(\"#nyhtökaura\", 10):\n",
    "        file.write(tweet.encode('utf-8'))\n",
    "    file.close()"
   ]
  },
  {
   "cell_type": "code",
   "execution_count": null,
   "metadata": {},
   "outputs": [],
   "source": []
  }
 ],
 "metadata": {
  "kernelspec": {
   "display_name": "Python 3",
   "language": "python",
   "name": "python3"
  },
  "language_info": {
   "codemirror_mode": {
    "name": "ipython",
    "version": 3
   },
   "file_extension": ".py",
   "mimetype": "text/x-python",
   "name": "python",
   "nbconvert_exporter": "python",
   "pygments_lexer": "ipython3",
   "version": "3.6.5"
  }
 },
 "nbformat": 4,
 "nbformat_minor": 2
}
